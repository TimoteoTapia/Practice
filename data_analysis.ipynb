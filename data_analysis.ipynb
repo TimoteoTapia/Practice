{
 "cells": [
  {
   "cell_type": "code",
   "execution_count": 28,
   "metadata": {},
   "outputs": [
    {
     "name": "stdout",
     "output_type": "stream",
     "text": [
      "Requirement already satisfied: pandas in c:\\users\\timytapilla\\appdata\\local\\programs\\python\\python312\\lib\\site-packages (2.2.2)\n",
      "Requirement already satisfied: matplotlib in c:\\users\\timytapilla\\appdata\\local\\programs\\python\\python312\\lib\\site-packages (3.9.0)\n",
      "Requirement already satisfied: seaborn in c:\\users\\timytapilla\\appdata\\local\\programs\\python\\python312\\lib\\site-packages (0.13.2)\n",
      "Requirement already satisfied: sentence-transformers in c:\\users\\timytapilla\\appdata\\local\\programs\\python\\python312\\lib\\site-packages (3.0.1)\n",
      "Requirement already satisfied: numpy>=1.26.0 in c:\\users\\timytapilla\\appdata\\local\\programs\\python\\python312\\lib\\site-packages (from pandas) (2.0.1)\n",
      "Requirement already satisfied: python-dateutil>=2.8.2 in c:\\users\\timytapilla\\appdata\\local\\programs\\python\\python312\\lib\\site-packages (from pandas) (2.9.0.post0)\n",
      "Requirement already satisfied: pytz>=2020.1 in c:\\users\\timytapilla\\appdata\\local\\programs\\python\\python312\\lib\\site-packages (from pandas) (2024.1)\n",
      "Requirement already satisfied: tzdata>=2022.7 in c:\\users\\timytapilla\\appdata\\local\\programs\\python\\python312\\lib\\site-packages (from pandas) (2024.1)\n",
      "Requirement already satisfied: contourpy>=1.0.1 in c:\\users\\timytapilla\\appdata\\local\\programs\\python\\python312\\lib\\site-packages (from matplotlib) (1.2.1)\n",
      "Requirement already satisfied: cycler>=0.10 in c:\\users\\timytapilla\\appdata\\local\\programs\\python\\python312\\lib\\site-packages (from matplotlib) (0.12.1)\n",
      "Requirement already satisfied: fonttools>=4.22.0 in c:\\users\\timytapilla\\appdata\\local\\programs\\python\\python312\\lib\\site-packages (from matplotlib) (4.53.1)\n",
      "Requirement already satisfied: kiwisolver>=1.3.1 in c:\\users\\timytapilla\\appdata\\local\\programs\\python\\python312\\lib\\site-packages (from matplotlib) (1.4.5)\n",
      "Requirement already satisfied: packaging>=20.0 in c:\\users\\timytapilla\\appdata\\local\\programs\\python\\python312\\lib\\site-packages (from matplotlib) (24.0)\n",
      "Requirement already satisfied: pillow>=8 in c:\\users\\timytapilla\\appdata\\local\\programs\\python\\python312\\lib\\site-packages (from matplotlib) (10.4.0)\n",
      "Requirement already satisfied: pyparsing>=2.3.1 in c:\\users\\timytapilla\\appdata\\local\\programs\\python\\python312\\lib\\site-packages (from matplotlib) (3.1.2)\n",
      "Requirement already satisfied: transformers<5.0.0,>=4.34.0 in c:\\users\\timytapilla\\appdata\\local\\programs\\python\\python312\\lib\\site-packages (from sentence-transformers) (4.43.4)\n",
      "Requirement already satisfied: tqdm in c:\\users\\timytapilla\\appdata\\local\\programs\\python\\python312\\lib\\site-packages (from sentence-transformers) (4.66.5)\n",
      "Requirement already satisfied: torch>=1.11.0 in c:\\users\\timytapilla\\appdata\\local\\programs\\python\\python312\\lib\\site-packages (from sentence-transformers) (2.4.0)\n",
      "Requirement already satisfied: scikit-learn in c:\\users\\timytapilla\\appdata\\local\\programs\\python\\python312\\lib\\site-packages (from sentence-transformers) (1.5.1)\n",
      "Requirement already satisfied: scipy in c:\\users\\timytapilla\\appdata\\local\\programs\\python\\python312\\lib\\site-packages (from sentence-transformers) (1.14.0)\n",
      "Requirement already satisfied: huggingface-hub>=0.15.1 in c:\\users\\timytapilla\\appdata\\local\\programs\\python\\python312\\lib\\site-packages (from sentence-transformers) (0.24.5)\n",
      "Requirement already satisfied: filelock in c:\\users\\timytapilla\\appdata\\local\\programs\\python\\python312\\lib\\site-packages (from huggingface-hub>=0.15.1->sentence-transformers) (3.15.4)\n",
      "Requirement already satisfied: fsspec>=2023.5.0 in c:\\users\\timytapilla\\appdata\\local\\programs\\python\\python312\\lib\\site-packages (from huggingface-hub>=0.15.1->sentence-transformers) (2024.6.1)\n",
      "Requirement already satisfied: pyyaml>=5.1 in c:\\users\\timytapilla\\appdata\\local\\programs\\python\\python312\\lib\\site-packages (from huggingface-hub>=0.15.1->sentence-transformers) (6.0.1)\n",
      "Requirement already satisfied: requests in c:\\users\\timytapilla\\appdata\\local\\programs\\python\\python312\\lib\\site-packages (from huggingface-hub>=0.15.1->sentence-transformers) (2.31.0)\n",
      "Requirement already satisfied: typing-extensions>=3.7.4.3 in c:\\users\\timytapilla\\appdata\\local\\programs\\python\\python312\\lib\\site-packages (from huggingface-hub>=0.15.1->sentence-transformers) (4.12.2)\n",
      "Requirement already satisfied: six>=1.5 in c:\\users\\timytapilla\\appdata\\local\\programs\\python\\python312\\lib\\site-packages (from python-dateutil>=2.8.2->pandas) (1.16.0)\n",
      "Requirement already satisfied: sympy in c:\\users\\timytapilla\\appdata\\local\\programs\\python\\python312\\lib\\site-packages (from torch>=1.11.0->sentence-transformers) (1.13.1)\n",
      "Requirement already satisfied: networkx in c:\\users\\timytapilla\\appdata\\local\\programs\\python\\python312\\lib\\site-packages (from torch>=1.11.0->sentence-transformers) (3.3)\n",
      "Requirement already satisfied: jinja2 in c:\\users\\timytapilla\\appdata\\local\\programs\\python\\python312\\lib\\site-packages (from torch>=1.11.0->sentence-transformers) (3.1.3)\n",
      "Requirement already satisfied: setuptools in c:\\users\\timytapilla\\appdata\\local\\programs\\python\\python312\\lib\\site-packages (from torch>=1.11.0->sentence-transformers) (72.1.0)\n",
      "Requirement already satisfied: colorama in c:\\users\\timytapilla\\appdata\\local\\programs\\python\\python312\\lib\\site-packages (from tqdm->sentence-transformers) (0.4.6)\n",
      "Requirement already satisfied: regex!=2019.12.17 in c:\\users\\timytapilla\\appdata\\local\\programs\\python\\python312\\lib\\site-packages (from transformers<5.0.0,>=4.34.0->sentence-transformers) (2024.7.24)\n",
      "Requirement already satisfied: safetensors>=0.4.1 in c:\\users\\timytapilla\\appdata\\local\\programs\\python\\python312\\lib\\site-packages (from transformers<5.0.0,>=4.34.0->sentence-transformers) (0.4.4)\n",
      "Requirement already satisfied: tokenizers<0.20,>=0.19 in c:\\users\\timytapilla\\appdata\\local\\programs\\python\\python312\\lib\\site-packages (from transformers<5.0.0,>=4.34.0->sentence-transformers) (0.19.1)\n",
      "Requirement already satisfied: joblib>=1.2.0 in c:\\users\\timytapilla\\appdata\\local\\programs\\python\\python312\\lib\\site-packages (from scikit-learn->sentence-transformers) (1.4.2)\n",
      "Requirement already satisfied: threadpoolctl>=3.1.0 in c:\\users\\timytapilla\\appdata\\local\\programs\\python\\python312\\lib\\site-packages (from scikit-learn->sentence-transformers) (3.5.0)\n",
      "Requirement already satisfied: MarkupSafe>=2.0 in c:\\users\\timytapilla\\appdata\\local\\programs\\python\\python312\\lib\\site-packages (from jinja2->torch>=1.11.0->sentence-transformers) (2.1.5)\n",
      "Requirement already satisfied: charset-normalizer<4,>=2 in c:\\users\\timytapilla\\appdata\\local\\programs\\python\\python312\\lib\\site-packages (from requests->huggingface-hub>=0.15.1->sentence-transformers) (3.3.2)\n",
      "Requirement already satisfied: idna<4,>=2.5 in c:\\users\\timytapilla\\appdata\\local\\programs\\python\\python312\\lib\\site-packages (from requests->huggingface-hub>=0.15.1->sentence-transformers) (3.7)\n",
      "Requirement already satisfied: urllib3<3,>=1.21.1 in c:\\users\\timytapilla\\appdata\\local\\programs\\python\\python312\\lib\\site-packages (from requests->huggingface-hub>=0.15.1->sentence-transformers) (2.2.1)\n",
      "Requirement already satisfied: certifi>=2017.4.17 in c:\\users\\timytapilla\\appdata\\local\\programs\\python\\python312\\lib\\site-packages (from requests->huggingface-hub>=0.15.1->sentence-transformers) (2024.2.2)\n",
      "Requirement already satisfied: mpmath<1.4,>=1.1.0 in c:\\users\\timytapilla\\appdata\\local\\programs\\python\\python312\\lib\\site-packages (from sympy->torch>=1.11.0->sentence-transformers) (1.3.0)\n",
      "Note: you may need to restart the kernel to use updated packages.\n"
     ]
    },
    {
     "name": "stderr",
     "output_type": "stream",
     "text": [
      "\n",
      "[notice] A new release of pip is available: 23.2.1 -> 24.2\n",
      "[notice] To update, run: python.exe -m pip install --upgrade pip\n"
     ]
    },
    {
     "name": "stdout",
     "output_type": "stream",
     "text": [
      "Note: you may need to restart the kernel to use updated packages.Requirement already satisfied: numpy in c:\\users\\timytapilla\\appdata\\local\\programs\\python\\python312\\lib\\site-packages (2.0.1)\n",
      "\n"
     ]
    },
    {
     "name": "stderr",
     "output_type": "stream",
     "text": [
      "\n",
      "[notice] A new release of pip is available: 23.2.1 -> 24.2\n",
      "[notice] To update, run: python.exe -m pip install --upgrade pip\n"
     ]
    }
   ],
   "source": [
    "%pip install pandas matplotlib seaborn sentence-transformers\n",
    "%pip install numpy"
   ]
  },
  {
   "cell_type": "code",
   "execution_count": 54,
   "metadata": {},
   "outputs": [
    {
     "ename": "ModuleNotFoundError",
     "evalue": "No module named 'openai'",
     "output_type": "error",
     "traceback": [
      "\u001b[1;31m---------------------------------------------------------------------------\u001b[0m",
      "\u001b[1;31mModuleNotFoundError\u001b[0m                       Traceback (most recent call last)",
      "Cell \u001b[1;32mIn[54], line 8\u001b[0m\n\u001b[0;32m      6\u001b[0m \u001b[38;5;28;01mimport\u001b[39;00m \u001b[38;5;21;01mmatplotlib\u001b[39;00m\u001b[38;5;21;01m.\u001b[39;00m\u001b[38;5;21;01mpyplot\u001b[39;00m \u001b[38;5;28;01mas\u001b[39;00m \u001b[38;5;21;01mplt\u001b[39;00m\n\u001b[0;32m      7\u001b[0m \u001b[38;5;28;01mimport\u001b[39;00m \u001b[38;5;21;01mnumpy\u001b[39;00m \u001b[38;5;28;01mas\u001b[39;00m \u001b[38;5;21;01mnp\u001b[39;00m\n\u001b[1;32m----> 8\u001b[0m \u001b[38;5;28;01mfrom\u001b[39;00m \u001b[38;5;21;01mopenai\u001b[39;00m \u001b[38;5;28;01mimport\u001b[39;00m OpenAI\n\u001b[0;32m      9\u001b[0m \u001b[38;5;28;01mimport\u001b[39;00m \u001b[38;5;21;01mpandas\u001b[39;00m \u001b[38;5;28;01mas\u001b[39;00m \u001b[38;5;21;01mpd\u001b[39;00m\n\u001b[0;32m     10\u001b[0m \u001b[38;5;28;01mfrom\u001b[39;00m \u001b[38;5;21;01mplotly\u001b[39;00m\u001b[38;5;21;01m.\u001b[39;00m\u001b[38;5;21;01moffline\u001b[39;00m \u001b[38;5;28;01mimport\u001b[39;00m init_notebook_mode, iplot\n",
      "\u001b[1;31mModuleNotFoundError\u001b[0m: No module named 'openai'"
     ]
    }
   ],
   "source": [
    "import pandas as pd\n",
    "import matplotlib.pyplot as plt\n",
    "import seaborn as sns\n",
    "from sklearn.feature_extraction.text import TfidfVectorizer\n",
    "from sentence_transformers import SentenceTransformer\n",
    "import matplotlib.pyplot as plt\n",
    "import numpy as np\n",
    "from openai import OpenAI\n",
    "import pandas as pd\n",
    "from plotly.offline import init_notebook_mode, iplot\n",
    "import plotly.express as px\n",
    "from scipy.cluster.hierarchy import dendrogram\n",
    "from sklearn.cluster import AgglomerativeClustering, KMeans\n",
    "import umap"
   ]
  },
  {
   "cell_type": "code",
   "execution_count": 55,
   "metadata": {},
   "outputs": [
    {
     "data": {
      "text/html": [
       "<div>\n",
       "<style scoped>\n",
       "    .dataframe tbody tr th:only-of-type {\n",
       "        vertical-align: middle;\n",
       "    }\n",
       "\n",
       "    .dataframe tbody tr th {\n",
       "        vertical-align: top;\n",
       "    }\n",
       "\n",
       "    .dataframe thead th {\n",
       "        text-align: right;\n",
       "    }\n",
       "</style>\n",
       "<table border=\"1\" class=\"dataframe\">\n",
       "  <thead>\n",
       "    <tr style=\"text-align: right;\">\n",
       "      <th></th>\n",
       "      <th>url</th>\n",
       "      <th>question</th>\n",
       "      <th>answer</th>\n",
       "    </tr>\n",
       "  </thead>\n",
       "  <tbody>\n",
       "    <tr>\n",
       "      <th>0</th>\n",
       "      <td>https://www.familysearch.org/en/help/helpcente...</td>\n",
       "      <td>What does tagging a source do in Source Linker?</td>\n",
       "      <td>Tagging a source turns it into a reference for...</td>\n",
       "    </tr>\n",
       "    <tr>\n",
       "      <th>1</th>\n",
       "      <td>https://www.familysearch.org/en/help/helpcente...</td>\n",
       "      <td>What categories can you tag a source to?</td>\n",
       "      <td>Name, Birth, Death, Sex, Christening, Burial, ...</td>\n",
       "    </tr>\n",
       "    <tr>\n",
       "      <th>2</th>\n",
       "      <td>https://www.familysearch.org/en/help/helpcente...</td>\n",
       "      <td>How do you tag a source to a detail?</td>\n",
       "      <td>Click the checkbox next to the detail.</td>\n",
       "    </tr>\n",
       "    <tr>\n",
       "      <th>3</th>\n",
       "      <td>https://www.familysearch.org/en/help/helpcente...</td>\n",
       "      <td>How can you remove a source from a detail?</td>\n",
       "      <td>Uncheck the checkbox next to the detail.</td>\n",
       "    </tr>\n",
       "    <tr>\n",
       "      <th>4</th>\n",
       "      <td>https://www.familysearch.org/en/help/helpcente...</td>\n",
       "      <td>What does the left column in Source Linker dis...</td>\n",
       "      <td>Details from the historical record.</td>\n",
       "    </tr>\n",
       "  </tbody>\n",
       "</table>\n",
       "</div>"
      ],
      "text/plain": [
       "                                                 url  \\\n",
       "0  https://www.familysearch.org/en/help/helpcente...   \n",
       "1  https://www.familysearch.org/en/help/helpcente...   \n",
       "2  https://www.familysearch.org/en/help/helpcente...   \n",
       "3  https://www.familysearch.org/en/help/helpcente...   \n",
       "4  https://www.familysearch.org/en/help/helpcente...   \n",
       "\n",
       "                                            question  \\\n",
       "0    What does tagging a source do in Source Linker?   \n",
       "1           What categories can you tag a source to?   \n",
       "2               How do you tag a source to a detail?   \n",
       "3         How can you remove a source from a detail?   \n",
       "4  What does the left column in Source Linker dis...   \n",
       "\n",
       "                                              answer  \n",
       "0  Tagging a source turns it into a reference for...  \n",
       "1  Name, Birth, Death, Sex, Christening, Burial, ...  \n",
       "2            Click the checkbox next to the detail.   \n",
       "3           Uncheck the checkbox next to the detail.  \n",
       "4               Details from the historical record.   "
      ]
     },
     "execution_count": 55,
     "metadata": {},
     "output_type": "execute_result"
    }
   ],
   "source": [
    "# Especifica la ruta del archivo .csv\n",
    "file_path = 'faq_with_urls.csv'\n",
    "\n",
    "# Lee el archivo .csv y carga los datos en un DataFrame\n",
    "df = pd.read_csv(file_path)\n",
    "\n",
    "# Muestra las primeras filas del DataFrame para verificar que se ha cargado correctamente\n",
    "df.head()"
   ]
  },
  {
   "cell_type": "code",
   "execution_count": 56,
   "metadata": {},
   "outputs": [
    {
     "data": {
      "text/plain": [
       "url         0\n",
       "question    0\n",
       "answer      0\n",
       "dtype: int64"
      ]
     },
     "execution_count": 56,
     "metadata": {},
     "output_type": "execute_result"
    }
   ],
   "source": [
    "df.isnull().sum()"
   ]
  },
  {
   "cell_type": "code",
   "execution_count": 57,
   "metadata": {},
   "outputs": [
    {
     "name": "stdout",
     "output_type": "stream",
     "text": [
      "Empty DataFrame\n",
      "Columns: [url, question, answer]\n",
      "Index: []\n"
     ]
    }
   ],
   "source": [
    "duplicates = df[df.duplicated()]\n",
    "print(duplicates)"
   ]
  },
  {
   "cell_type": "code",
   "execution_count": 58,
   "metadata": {},
   "outputs": [
    {
     "data": {
      "text/html": [
       "<div>\n",
       "<style scoped>\n",
       "    .dataframe tbody tr th:only-of-type {\n",
       "        vertical-align: middle;\n",
       "    }\n",
       "\n",
       "    .dataframe tbody tr th {\n",
       "        vertical-align: top;\n",
       "    }\n",
       "\n",
       "    .dataframe thead th {\n",
       "        text-align: right;\n",
       "    }\n",
       "</style>\n",
       "<table border=\"1\" class=\"dataframe\">\n",
       "  <thead>\n",
       "    <tr style=\"text-align: right;\">\n",
       "      <th></th>\n",
       "      <th>url</th>\n",
       "      <th>question</th>\n",
       "      <th>answer</th>\n",
       "    </tr>\n",
       "  </thead>\n",
       "  <tbody>\n",
       "    <tr>\n",
       "      <th>count</th>\n",
       "      <td>1656</td>\n",
       "      <td>1656</td>\n",
       "      <td>1656</td>\n",
       "    </tr>\n",
       "    <tr>\n",
       "      <th>unique</th>\n",
       "      <td>23</td>\n",
       "      <td>71</td>\n",
       "      <td>72</td>\n",
       "    </tr>\n",
       "    <tr>\n",
       "      <th>top</th>\n",
       "      <td>https://www.familysearch.org/en/help/helpcente...</td>\n",
       "      <td>What are record hints in Family Tree?</td>\n",
       "      <td>Tagging a source turns it into a reference for...</td>\n",
       "    </tr>\n",
       "    <tr>\n",
       "      <th>freq</th>\n",
       "      <td>72</td>\n",
       "      <td>46</td>\n",
       "      <td>23</td>\n",
       "    </tr>\n",
       "  </tbody>\n",
       "</table>\n",
       "</div>"
      ],
      "text/plain": [
       "                                                      url  \\\n",
       "count                                                1656   \n",
       "unique                                                 23   \n",
       "top     https://www.familysearch.org/en/help/helpcente...   \n",
       "freq                                                   72   \n",
       "\n",
       "                                     question  \\\n",
       "count                                    1656   \n",
       "unique                                     71   \n",
       "top     What are record hints in Family Tree?   \n",
       "freq                                       46   \n",
       "\n",
       "                                                   answer  \n",
       "count                                                1656  \n",
       "unique                                                 72  \n",
       "top     Tagging a source turns it into a reference for...  \n",
       "freq                                                   23  "
      ]
     },
     "execution_count": 58,
     "metadata": {},
     "output_type": "execute_result"
    }
   ],
   "source": [
    "df.describe(include='all')"
   ]
  },
  {
   "cell_type": "code",
   "execution_count": 59,
   "metadata": {},
   "outputs": [
    {
     "data": {
      "image/png": "[encoded data removed]",
      "text/plain": [
       "<Figure size 1000x600 with 1 Axes>"
      ]
     },
     "metadata": {},
     "output_type": "display_data"
    }
   ],
   "source": [
    "# Visualizar la distribución de preguntas (si la columna 'question' no está vacía)\n",
    "if not df['question'].empty:\n",
    "    plt.figure(figsize=(10, 6))\n",
    "    sns.histplot(df['question'].dropna(), bins=30)\n",
    "    plt.title('Distribución de Preguntas')\n",
    "    plt.show()"
   ]
  },
  {
   "cell_type": "code",
   "execution_count": 60,
   "metadata": {},
   "outputs": [
    {
     "data": {
      "text/html": [
       "<div>\n",
       "<style scoped>\n",
       "    .dataframe tbody tr th:only-of-type {\n",
       "        vertical-align: middle;\n",
       "    }\n",
       "\n",
       "    .dataframe tbody tr th {\n",
       "        vertical-align: top;\n",
       "    }\n",
       "\n",
       "    .dataframe thead th {\n",
       "        text-align: right;\n",
       "    }\n",
       "</style>\n",
       "<table border=\"1\" class=\"dataframe\">\n",
       "  <thead>\n",
       "    <tr style=\"text-align: right;\">\n",
       "      <th></th>\n",
       "      <th>url</th>\n",
       "      <th>question</th>\n",
       "      <th>answer</th>\n",
       "      <th>word_count</th>\n",
       "    </tr>\n",
       "  </thead>\n",
       "  <tbody>\n",
       "    <tr>\n",
       "      <th>0</th>\n",
       "      <td>https://www.familysearch.org/en/help/helpcente...</td>\n",
       "      <td>What does tagging a source do in Source Linker?</td>\n",
       "      <td>Tagging a source turns it into a reference for...</td>\n",
       "      <td>9</td>\n",
       "    </tr>\n",
       "    <tr>\n",
       "      <th>1</th>\n",
       "      <td>https://www.familysearch.org/en/help/helpcente...</td>\n",
       "      <td>What categories can you tag a source to?</td>\n",
       "      <td>Name, Birth, Death, Sex, Christening, Burial, ...</td>\n",
       "      <td>8</td>\n",
       "    </tr>\n",
       "    <tr>\n",
       "      <th>2</th>\n",
       "      <td>https://www.familysearch.org/en/help/helpcente...</td>\n",
       "      <td>How do you tag a source to a detail?</td>\n",
       "      <td>Click the checkbox next to the detail.</td>\n",
       "      <td>9</td>\n",
       "    </tr>\n",
       "    <tr>\n",
       "      <th>3</th>\n",
       "      <td>https://www.familysearch.org/en/help/helpcente...</td>\n",
       "      <td>How can you remove a source from a detail?</td>\n",
       "      <td>Uncheck the checkbox next to the detail.</td>\n",
       "      <td>9</td>\n",
       "    </tr>\n",
       "    <tr>\n",
       "      <th>4</th>\n",
       "      <td>https://www.familysearch.org/en/help/helpcente...</td>\n",
       "      <td>What does the left column in Source Linker dis...</td>\n",
       "      <td>Details from the historical record.</td>\n",
       "      <td>9</td>\n",
       "    </tr>\n",
       "  </tbody>\n",
       "</table>\n",
       "</div>"
      ],
      "text/plain": [
       "                                                 url  \\\n",
       "0  https://www.familysearch.org/en/help/helpcente...   \n",
       "1  https://www.familysearch.org/en/help/helpcente...   \n",
       "2  https://www.familysearch.org/en/help/helpcente...   \n",
       "3  https://www.familysearch.org/en/help/helpcente...   \n",
       "4  https://www.familysearch.org/en/help/helpcente...   \n",
       "\n",
       "                                            question  \\\n",
       "0    What does tagging a source do in Source Linker?   \n",
       "1           What categories can you tag a source to?   \n",
       "2               How do you tag a source to a detail?   \n",
       "3         How can you remove a source from a detail?   \n",
       "4  What does the left column in Source Linker dis...   \n",
       "\n",
       "                                              answer  word_count  \n",
       "0  Tagging a source turns it into a reference for...           9  \n",
       "1  Name, Birth, Death, Sex, Christening, Burial, ...           8  \n",
       "2            Click the checkbox next to the detail.            9  \n",
       "3           Uncheck the checkbox next to the detail.           9  \n",
       "4               Details from the historical record.            9  "
      ]
     },
     "execution_count": 60,
     "metadata": {},
     "output_type": "execute_result"
    }
   ],
   "source": [
    "# count the number of words in the question\n",
    "df['word_count'] = df['question'].apply(lambda q: len(str(q).split()))\n",
    "df.head()"
   ]
  },
  {
   "cell_type": "code",
   "execution_count": 61,
   "metadata": {},
   "outputs": [
    {
     "data": {
      "image/png": "[encoded data removed]",
      "text/plain": [
       "<Figure size 640x480 with 1 Axes>"
      ]
     },
     "metadata": {},
     "output_type": "display_data"
    }
   ],
   "source": [
    "# plot the word counts\n",
    "df['word_count'].plot(kind='hist', bins=40, edgecolor='black')\n",
    "# Adding labels and title\n",
    "plt.xlabel('Word Count')\n",
    "plt.ylabel('Frequency')\n",
    "plt.title('Histogram of Word Count')\n",
    "# Show the plot\n",
    "plt.show()"
   ]
  },
  {
   "cell_type": "code",
   "execution_count": 62,
   "metadata": {},
   "outputs": [
    {
     "name": "stdout",
     "output_type": "stream",
     "text": [
      "0\n",
      "Empty DataFrame\n",
      "Columns: [url, question, answer, word_count]\n",
      "Index: []\n"
     ]
    }
   ],
   "source": [
    "short_df = df[df['word_count'] < 3]\n",
    "print(len(short_df))\n",
    "print(short_df)"
   ]
  },
  {
   "cell_type": "code",
   "execution_count": 63,
   "metadata": {},
   "outputs": [
    {
     "name": "stdout",
     "output_type": "stream",
     "text": [
      "23\n",
      "What should you do if names in the left column of Source Linker are not aligned correctly with names in the right column?\n",
      "\n",
      "23\n",
      "What should you do if names in the left column of Source Linker are not aligned correctly with names in the right column?\n",
      "\n",
      "23\n",
      "What should you do if names in the left column of Source Linker are not aligned correctly with names in the right column?\n",
      "\n",
      "23\n",
      "What should you do if names in the left column of Source Linker are not aligned correctly with names in the right column?\n",
      "\n",
      "23\n",
      "What should you do if names in the left column of Source Linker are not aligned correctly with names in the right column?\n",
      "\n",
      "23\n",
      "What should you do if names in the left column of Source Linker are not aligned correctly with names in the right column?\n",
      "\n",
      "23\n",
      "What should you do if names in the left column of Source Linker are not aligned correctly with names in the right column?\n",
      "\n",
      "23\n",
      "What should you do if names in the left column of Source Linker are not aligned correctly with names in the right column?\n",
      "\n",
      "23\n",
      "What should you do if names in the left column of Source Linker are not aligned correctly with names in the right column?\n",
      "\n",
      "23\n",
      "What should you do if names in the left column of Source Linker are not aligned correctly with names in the right column?\n",
      "\n",
      "23\n",
      "What should you do if names in the left column of Source Linker are not aligned correctly with names in the right column?\n",
      "\n",
      "23\n",
      "What should you do if names in the left column of Source Linker are not aligned correctly with names in the right column?\n",
      "\n",
      "23\n",
      "What should you do if names in the left column of Source Linker are not aligned correctly with names in the right column?\n",
      "\n",
      "23\n",
      "What should you do if names in the left column of Source Linker are not aligned correctly with names in the right column?\n",
      "\n",
      "23\n",
      "What should you do if names in the left column of Source Linker are not aligned correctly with names in the right column?\n",
      "\n",
      "23\n",
      "What should you do if names in the left column of Source Linker are not aligned correctly with names in the right column?\n",
      "\n",
      "23\n",
      "What should you do if names in the left column of Source Linker are not aligned correctly with names in the right column?\n",
      "\n",
      "23\n",
      "What should you do if names in the left column of Source Linker are not aligned correctly with names in the right column?\n",
      "\n",
      "23\n",
      "What should you do if names in the left column of Source Linker are not aligned correctly with names in the right column?\n",
      "\n",
      "23\n",
      "What should you do if names in the left column of Source Linker are not aligned correctly with names in the right column?\n",
      "\n",
      "23\n",
      "What should you do if names in the left column of Source Linker are not aligned correctly with names in the right column?\n",
      "\n",
      "23\n",
      "What should you do if names in the left column of Source Linker are not aligned correctly with names in the right column?\n",
      "\n",
      "23\n",
      "What should you do if names in the left column of Source Linker are not aligned correctly with names in the right column?\n",
      "\n"
     ]
    }
   ],
   "source": [
    "# review long questions\n",
    "long_df = df[df['word_count'] >= 23]\n",
    "for q, count in zip(long_df['question'], long_df['word_count']):\n",
    "    print(count)\n",
    "    print(q)\n",
    "    print()"
   ]
  },
  {
   "cell_type": "code",
   "execution_count": 67,
   "metadata": {},
   "outputs": [
    {
     "data": {
      "text/html": [
       "<div>\n",
       "<style scoped>\n",
       "    .dataframe tbody tr th:only-of-type {\n",
       "        vertical-align: middle;\n",
       "    }\n",
       "\n",
       "    .dataframe tbody tr th {\n",
       "        vertical-align: top;\n",
       "    }\n",
       "\n",
       "    .dataframe thead th {\n",
       "        text-align: right;\n",
       "    }\n",
       "</style>\n",
       "<table border=\"1\" class=\"dataframe\">\n",
       "  <thead>\n",
       "    <tr style=\"text-align: right;\">\n",
       "      <th></th>\n",
       "      <th>url</th>\n",
       "      <th>question</th>\n",
       "      <th>answer</th>\n",
       "      <th>word_count</th>\n",
       "    </tr>\n",
       "  </thead>\n",
       "  <tbody>\n",
       "    <tr>\n",
       "      <th>0</th>\n",
       "      <td>https://www.familysearch.org/en/help/helpcente...</td>\n",
       "      <td>What does tagging a source do in Source Linker?</td>\n",
       "      <td>Tagging a source turns it into a reference for...</td>\n",
       "      <td>9</td>\n",
       "    </tr>\n",
       "    <tr>\n",
       "      <th>1</th>\n",
       "      <td>https://www.familysearch.org/en/help/helpcente...</td>\n",
       "      <td>What categories can you tag a source to?</td>\n",
       "      <td>Name, Birth, Death, Sex, Christening, Burial, ...</td>\n",
       "      <td>8</td>\n",
       "    </tr>\n",
       "    <tr>\n",
       "      <th>2</th>\n",
       "      <td>https://www.familysearch.org/en/help/helpcente...</td>\n",
       "      <td>How do you tag a source to a detail?</td>\n",
       "      <td>Click the checkbox next to the detail.</td>\n",
       "      <td>9</td>\n",
       "    </tr>\n",
       "    <tr>\n",
       "      <th>3</th>\n",
       "      <td>https://www.familysearch.org/en/help/helpcente...</td>\n",
       "      <td>How can you remove a source from a detail?</td>\n",
       "      <td>Uncheck the checkbox next to the detail.</td>\n",
       "      <td>9</td>\n",
       "    </tr>\n",
       "    <tr>\n",
       "      <th>4</th>\n",
       "      <td>https://www.familysearch.org/en/help/helpcente...</td>\n",
       "      <td>What does the left column in Source Linker dis...</td>\n",
       "      <td>Details from the historical record.</td>\n",
       "      <td>9</td>\n",
       "    </tr>\n",
       "  </tbody>\n",
       "</table>\n",
       "</div>"
      ],
      "text/plain": [
       "                                                 url  \\\n",
       "0  https://www.familysearch.org/en/help/helpcente...   \n",
       "1  https://www.familysearch.org/en/help/helpcente...   \n",
       "2  https://www.familysearch.org/en/help/helpcente...   \n",
       "3  https://www.familysearch.org/en/help/helpcente...   \n",
       "4  https://www.familysearch.org/en/help/helpcente...   \n",
       "\n",
       "                                            question  \\\n",
       "0    What does tagging a source do in Source Linker?   \n",
       "1           What categories can you tag a source to?   \n",
       "2               How do you tag a source to a detail?   \n",
       "3         How can you remove a source from a detail?   \n",
       "4  What does the left column in Source Linker dis...   \n",
       "\n",
       "                                              answer  word_count  \n",
       "0  Tagging a source turns it into a reference for...           9  \n",
       "1  Name, Birth, Death, Sex, Christening, Burial, ...           8  \n",
       "2            Click the checkbox next to the detail.            9  \n",
       "3           Uncheck the checkbox next to the detail.           9  \n",
       "4               Details from the historical record.            9  "
      ]
     },
     "execution_count": 67,
     "metadata": {},
     "output_type": "execute_result"
    }
   ],
   "source": [
    "df.head()"
   ]
  },
  {
   "cell_type": "code",
   "execution_count": 65,
   "metadata": {},
   "outputs": [],
   "source": []
  },
  {
   "cell_type": "code",
   "execution_count": 66,
   "metadata": {},
   "outputs": [
    {
     "ename": "NameError",
     "evalue": "name 'OpenAI' is not defined",
     "output_type": "error",
     "traceback": [
      "\u001b[1;31m---------------------------------------------------------------------------\u001b[0m",
      "\u001b[1;31mNameError\u001b[0m                                 Traceback (most recent call last)",
      "Cell \u001b[1;32mIn[66], line 2\u001b[0m\n\u001b[0;32m      1\u001b[0m \u001b[38;5;66;03m# get embeddings by calling openai\u001b[39;00m\n\u001b[1;32m----> 2\u001b[0m client \u001b[38;5;241m=\u001b[39m \u001b[43mOpenAI\u001b[49m()\n\u001b[0;32m      4\u001b[0m \u001b[38;5;28;01mdef\u001b[39;00m \u001b[38;5;21mget_embedding\u001b[39m(text, model\u001b[38;5;241m=\u001b[39m\u001b[38;5;124m'\u001b[39m\u001b[38;5;124mtext-embedding-3-large\u001b[39m\u001b[38;5;124m'\u001b[39m):\n\u001b[0;32m      5\u001b[0m     text \u001b[38;5;241m=\u001b[39m text\u001b[38;5;241m.\u001b[39mreplace(\u001b[38;5;124m'\u001b[39m\u001b[38;5;130;01m\\n\u001b[39;00m\u001b[38;5;124m'\u001b[39m, \u001b[38;5;124m'\u001b[39m\u001b[38;5;124m \u001b[39m\u001b[38;5;124m'\u001b[39m)\n",
      "\u001b[1;31mNameError\u001b[0m: name 'OpenAI' is not defined"
     ]
    }
   ],
   "source": []
  },
  {
   "cell_type": "code",
   "execution_count": 26,
   "metadata": {},
   "outputs": [
    {
     "name": "stdout",
     "output_type": "stream",
     "text": [
      "   about  action  add  adding  after  aligned  all   an  ancestor  ancestors  \\\n",
      "0    0.0     0.0  0.0     0.0    0.0      0.0  0.0  0.0       0.0        0.0   \n",
      "1    0.0     0.0  0.0     0.0    0.0      0.0  0.0  0.0       0.0        0.0   \n",
      "2    0.0     0.0  0.0     0.0    0.0      0.0  0.0  0.0       0.0        0.0   \n",
      "3    0.0     0.0  0.0     0.0    0.0      0.0  0.0  0.0       0.0        0.0   \n",
      "4    0.0     0.0  0.0     0.0    0.0      0.0  0.0  0.0       0.0        0.0   \n",
      "\n",
      "   ...  want  was      what  when  why  with  worded  yellow       you  your  \n",
      "0  ...   0.0  0.0  0.175532   0.0  0.0   0.0     0.0     0.0  0.000000   0.0  \n",
      "1  ...   0.0  0.0  0.168452   0.0  0.0   0.0     0.0     0.0  0.212442   0.0  \n",
      "2  ...   0.0  0.0  0.000000   0.0  0.0   0.0     0.0     0.0  0.228723   0.0  \n",
      "3  ...   0.0  0.0  0.000000   0.0  0.0   0.0     0.0     0.0  0.197407   0.0  \n",
      "4  ...   0.0  0.0  0.160365   0.0  0.0   0.0     0.0     0.0  0.000000   0.0  \n",
      "\n",
      "[5 rows x 191 columns]\n"
     ]
    }
   ],
   "source": [
    "# Crear el vectorizador TF-IDF\n",
    "vectorizer = TfidfVectorizer()\n",
    "\n",
    "# Ajustar y transformar los datos textuales (en este caso, las preguntas)\n",
    "X = vectorizer.fit_transform(df['question'].dropna())\n",
    "\n",
    "# Convertir a DataFrame para ver las características\n",
    "tfidf_df = pd.DataFrame(X.toarray(), columns=vectorizer.get_feature_names_out())\n",
    "print(tfidf_df.head())"
   ]
  },
  {
   "cell_type": "code",
   "execution_count": 30,
   "metadata": {},
   "outputs": [
    {
     "ename": "RuntimeError",
     "evalue": "Numpy is not available",
     "output_type": "error",
     "traceback": [
      "\u001b[1;31m---------------------------------------------------------------------------\u001b[0m",
      "\u001b[1;31mRuntimeError\u001b[0m                              Traceback (most recent call last)",
      "Cell \u001b[1;32mIn[30], line 6\u001b[0m\n\u001b[0;32m      4\u001b[0m \u001b[38;5;66;03m# Generar embeddings para las preguntas\u001b[39;00m\n\u001b[0;32m      5\u001b[0m questions \u001b[38;5;241m=\u001b[39m df[\u001b[38;5;124m'\u001b[39m\u001b[38;5;124mquestion\u001b[39m\u001b[38;5;124m'\u001b[39m]\u001b[38;5;241m.\u001b[39mdropna()\u001b[38;5;241m.\u001b[39mtolist()\n\u001b[1;32m----> 6\u001b[0m embeddings \u001b[38;5;241m=\u001b[39m \u001b[43mmodel\u001b[49m\u001b[38;5;241;43m.\u001b[39;49m\u001b[43mencode\u001b[49m\u001b[43m(\u001b[49m\u001b[43mquestions\u001b[49m\u001b[43m)\u001b[49m\n\u001b[0;32m      8\u001b[0m \u001b[38;5;66;03m# Convertir a DataFrame para ver los embeddings\u001b[39;00m\n\u001b[0;32m      9\u001b[0m embeddings_df \u001b[38;5;241m=\u001b[39m pd\u001b[38;5;241m.\u001b[39mDataFrame(embeddings)\n",
      "File \u001b[1;32mc:\\Users\\timytapilla\\AppData\\Local\\Programs\\Python\\Python312\\Lib\\site-packages\\sentence_transformers\\SentenceTransformer.py:568\u001b[0m, in \u001b[0;36mSentenceTransformer.encode\u001b[1;34m(self, sentences, prompt_name, prompt, batch_size, show_progress_bar, output_value, precision, convert_to_numpy, convert_to_tensor, device, normalize_embeddings)\u001b[0m\n\u001b[0;32m    566\u001b[0m             all_embeddings \u001b[38;5;241m=\u001b[39m np\u001b[38;5;241m.\u001b[39masarray([emb\u001b[38;5;241m.\u001b[39mfloat()\u001b[38;5;241m.\u001b[39mnumpy() \u001b[38;5;28;01mfor\u001b[39;00m emb \u001b[38;5;129;01min\u001b[39;00m all_embeddings])\n\u001b[0;32m    567\u001b[0m         \u001b[38;5;28;01melse\u001b[39;00m:\n\u001b[1;32m--> 568\u001b[0m             all_embeddings \u001b[38;5;241m=\u001b[39m np\u001b[38;5;241m.\u001b[39masarray([\u001b[43memb\u001b[49m\u001b[38;5;241;43m.\u001b[39;49m\u001b[43mnumpy\u001b[49m\u001b[43m(\u001b[49m\u001b[43m)\u001b[49m \u001b[38;5;28;01mfor\u001b[39;00m emb \u001b[38;5;129;01min\u001b[39;00m all_embeddings])\n\u001b[0;32m    569\u001b[0m \u001b[38;5;28;01melif\u001b[39;00m \u001b[38;5;28misinstance\u001b[39m(all_embeddings, np\u001b[38;5;241m.\u001b[39mndarray):\n\u001b[0;32m    570\u001b[0m     all_embeddings \u001b[38;5;241m=\u001b[39m [torch\u001b[38;5;241m.\u001b[39mfrom_numpy(embedding) \u001b[38;5;28;01mfor\u001b[39;00m embedding \u001b[38;5;129;01min\u001b[39;00m all_embeddings]\n",
      "\u001b[1;31mRuntimeError\u001b[0m: Numpy is not available"
     ]
    }
   ],
   "source": [
    "# Cargar el modelo preentrenado\n",
    "model = SentenceTransformer('all-MiniLM-L6-v2')\n",
    "\n",
    "# Generar embeddings para las preguntas\n",
    "questions = df['question'].dropna().tolist()\n",
    "embeddings = model.encode(questions)\n",
    "\n",
    "# Convertir a DataFrame para ver los embeddings\n",
    "embeddings_df = pd.DataFrame(embeddings)\n",
    "print(embeddings_df.head())"
   ]
  },
  {
   "cell_type": "code",
   "execution_count": null,
   "metadata": {},
   "outputs": [],
   "source": []
  }
 ],
 "metadata": {
  "kernelspec": {
   "display_name": "Python 3",
   "language": "python",
   "name": "python3"
  },
  "language_info": {
   "codemirror_mode": {
    "name": "ipython",
    "version": 3
   },
   "file_extension": ".py",
   "mimetype": "text/x-python",
   "name": "python",
   "nbconvert_exporter": "python",
   "pygments_lexer": "ipython3",
   "version": "3.12.1"
  }
 },
 "nbformat": 4,
 "nbformat_minor": 2
}
